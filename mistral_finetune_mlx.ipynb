{
 "cells": [
  {
   "cell_type": "code",
   "execution_count": 5,
   "metadata": {
    "notebookRunGroups": {
     "groupValue": "2"
    }
   },
   "outputs": [],
   "source": [
    "import pandas as pd\n",
    "import random as random"
   ]
  },
  {
   "cell_type": "code",
   "execution_count": 3,
   "metadata": {},
   "outputs": [
    {
     "name": "stdout",
     "output_type": "stream",
     "text": [
      "       label                                               text\n",
      "0  Psoriasis  I have been experiencing a skin rash on my arm...\n",
      "1  Psoriasis  My skin has been peeling, especially on my kne...\n",
      "2  Psoriasis  I have been experiencing joint pain in my fing...\n",
      "3  Psoriasis  There is a silver like dusting on my skin, esp...\n",
      "4  Psoriasis  My nails have small dents or pits in them, and...\n"
     ]
    }
   ],
   "source": [
    "file_path = './dataset/symptoms_diagnosis.csv'\n",
    "df = pd.read_csv(file_path)\n",
    "print(df.head())"
   ]
  },
  {
   "cell_type": "code",
   "execution_count": 6,
   "metadata": {},
   "outputs": [
    {
     "data": {
      "text/plain": [
       "[{'text': \"You are a medical diagnosis expert. You will give answer to patient's question based on the symptoms they have. Symptoms: 'I feel fatigued all the time, and have a tingling sensation in my throat. I have also developed flaky skin. Sometimes I get puffy eyes and sometimes puffs up too.'. Question: 'What is the diagnosis I have?'. Response: You may be diagnosed with allergy.\"},\n",
       " {'text': \"You are a medical diagnosis expert. You will give answer to patient's question based on the symptoms they have. Symptoms: 'I have been experiencing difficulty walking, nausea, joint pain, dizziness, skin rash, stiffness.'. Question: 'What is the diagnosis I have?'. Response: You may be diagnosed with Alzheimer's.\"},\n",
       " {'text': \"You are a medical diagnosis expert. You will give answer to patient's question based on the symptoms they have. Symptoms: 'My skin has a horrible rash that is absolutely nonheritable. Blackheads and pus-filled pimples abound on it. In addition, my skin has been quite sensitive.'. Question: 'What is the diagnosis I have?'. Response: You may be diagnosed with Acne.\"},\n",
       " {'text': \"You are a medical diagnosis expert. You will give answer to patient's question based on the symptoms they have. Symptoms: 'I have been experiencing speech difficulty, stiffness, vision changes, abdominal pain, difficulty breathing, rapid heartbeat.'. Question: 'What is the diagnosis I have?'. Response: You may be diagnosed with HIV/AIDS.\"},\n",
       " {'text': \"You are a medical diagnosis expert. You will give answer to patient's question based on the symptoms they have. Symptoms: 'I have been experiencing chest pain, vomiting, diarrhea, weight loss.'. Question: 'What is the diagnosis I have?'. Response: You may be diagnosed with Diabetes.\"},\n",
       " {'text': \"You are a medical diagnosis expert. You will give answer to patient's question based on the symptoms they have. Symptoms: 'I have been experiencing difficulty walking, skin rash, dizziness.'. Question: 'What is the diagnosis I have?'. Response: You may be diagnosed with Ulcer.\"},\n",
       " {'text': \"You are a medical diagnosis expert. You will give answer to patient's question based on the symptoms they have. Symptoms: 'I've been experiencing a high fever, a persistent cough, and shortness of breath. I've also been producing a lot of thick, mucoid sputum, and I'm feeling very tired and weak.'. Question: 'What is the diagnosis I have?'. Response: You may be diagnosed with Bronchial Asthma.\"},\n",
       " {'text': \"You are a medical diagnosis expert. You will give answer to patient's question based on the symptoms they have. Symptoms: 'I have been experiencing difficulty breathing, fever, hair loss.'. Question: 'What is the diagnosis I have?'. Response: You may be diagnosed with Asthma.\"},\n",
       " {'text': \"You are a medical diagnosis expert. You will give answer to patient's question based on the symptoms they have. Symptoms: 'I have been experiencing difficulty walking, stiffness, night sweats, tremors.'. Question: 'What is the diagnosis I have?'. Response: You may be diagnosed with Osteoporosis.\"},\n",
       " {'text': \"You are a medical diagnosis expert. You will give answer to patient's question based on the symptoms they have. Symptoms: 'When I first experienced a headache, chest pain, and lightheadedness, I was out shopping. Since then, it has been difficult for me to concentrate on my work.'. Question: 'What is the diagnosis I have?'. Response: You may be diagnosed with Hypertension.\"}]"
      ]
     },
     "execution_count": 6,
     "metadata": {},
     "output_type": "execute_result"
    }
   ],
   "source": [
    "csv_data = []\n",
    "for _, row in df.iterrows():\n",
    "    diagnosis = row['label']\n",
    "    symptoms = row['text']\n",
    "    prompt = f\"You are a medical diagnosis expert. You will give answer to patient's question based on the symptoms they have. Symptoms: '{symptoms}'. Question: 'What is the diagnosis I have?'. Response: You may be diagnosed with {diagnosis}.\"\n",
    "    csv_data.append({\"text\": prompt})\n",
    "random.shuffle(csv_data)\n",
    "csv_data[:10]"
   ]
  },
  {
   "cell_type": "code",
   "execution_count": null,
   "metadata": {},
   "outputs": [],
   "source": [
    "# calculate split indices\n",
    "total_records = len(csv_data)\n",
    "train_split = int(total_records * 2 / 3)\n",
    "test_split = int(total_records * 1 / 6)\n",
    "\n",
    "# split the data\n",
    "train_data = csv_data[:train_split]\n",
    "test_data = csv_data[train_split:train_split + test_split]\n",
    "valid_data = csv_data[train_split + test_split:]\n",
    "\n",
    "# save the split data to jsonl files\n",
    "import json\n",
    "with open('train.jsonl', 'w') as train_file:\n",
    "    for entry in train_data:\n",
    "        train_file.write(json.dumps(entry) + '\\n')\n",
    "\n",
    "with open('test.jsonl', 'w') as test_file:\n",
    "    for entry in test_data:\n",
    "        test_file.write(json.dumps(entry) + '\\n')\n",
    "\n",
    "with open('valid.jsonl', 'w') as valid_file:\n",
    "    for entry in valid_data:\n",
    "        valid_file.write(json.dumps(entry) + '\\n')"
   ]
  },
  {
   "cell_type": "code",
   "execution_count": 16,
   "metadata": {},
   "outputs": [
    {
     "name": "stdout",
     "output_type": "stream",
     "text": [
      "Iter 990: Train loss 0.548, Learning Rate 1.000e-05, It/sec 0.448, Tokens/sec 122.151, Trained Tokens 279857, Peak mem 6.700 GB\n",
      "Calculating loss...: 100%|██████████████████████| 25/25 [00:35<00:00,  1.44s/it]\n",
      "Iter 1000: Val loss 0.597, Val took 35.909s\n",
      "Iter 1000: Train loss 0.613, Learning Rate 1.000e-05, It/sec 0.422, Tokens/sec 121.522, Trained Tokens 282740, Peak mem 6.700 GB\n",
      "Iter 1000: Saved adapter weights to adapters/adapters.safetensors and adapters/0001000_adapters.safetensors.\n",
      "Saved final weights to adapters/adapters.safetensors.\n"
     ]
    }
   ],
   "source": [
    "!python -m mlx_lm.lora \\\n",
    "    --model mlx-community/Ministral-8B-Instruct-2410-4bit \\\n",
    "    --data data \\\n",
    "    --train \\\n",
    "    --fine-tune-type lora \\\n",
    "    --batch-size 4\\\n",
    "    --num-layers 16\\\n",
    "    --iters 1000 \\\n",
    "    --adapter-path adapters"
   ]
  },
  {
   "cell_type": "code",
   "execution_count": 17,
   "metadata": {},
   "outputs": [
    {
     "name": "stdout",
     "output_type": "stream",
     "text": [
      "Calling `python -m mlx_lm.lora...` directly is deprecated. Use `mlx_lm.lora...` or `python -m mlx_lm lora ...` instead.\n",
      "Loading pretrained model\n",
      "Fetching 7 files: 100%|███████████████████████| 7/7 [00:00<00:00, 127100.12it/s]\n",
      "Loading datasets\n",
      "Testing\n",
      "Calculating loss...: 100%|████████████████████| 208/208 [04:58<00:00,  1.44s/it]\n",
      "Test loss 0.616, Test ppl 1.852.\n"
     ]
    }
   ],
   "source": [
    "!python -m mlx_lm.lora \\\n",
    "    --model mlx-community/Ministral-8B-Instruct-2410-4bit \\\n",
    "    --adapter-path adapters \\\n",
    "    --data data \\\n",
    "    --test"
   ]
  },
  {
   "cell_type": "code",
   "execution_count": 18,
   "metadata": {},
   "outputs": [
    {
     "name": "stdout",
     "output_type": "stream",
     "text": [
      "<frozen runpy>:128: RuntimeWarning: 'mlx_lm.generate' found in sys.modules after import of package 'mlx_lm', but prior to execution of 'mlx_lm.generate'; this may result in unpredictable behaviour\n",
      "Calling `python -m mlx_lm.generate...` directly is deprecated. Use `mlx_lm.generate...` or `python -m mlx_lm generate ...` instead.\n",
      "Fetching 7 files: 100%|███████████████████████| 7/7 [00:00<00:00, 105611.97it/s]\n",
      "==========\n",
      "The symptoms you're describing—memory loss, stiffness, and difficulty walking—could be indicative of several conditions. Here are a few possibilities:\n",
      "\n",
      "1. **Dementia**: This is a broad term that refers to a decline in cognitive function, including memory loss. It can be caused by various conditions, such as Alzheimer's disease, vascular dementia, or Lewy body dementia.\n",
      "\n",
      "2. **Parkinson's Disease**: This is a neurological disorder that affects movement. It can cause stiffness, difficulty walking, and memory problems, among other symptoms.\n",
      "\n",
      "3. **Multiple Sclerosis (MS)**: This is an autoimmune disease that affects the central nervous system. It can cause a wide range of symptoms, including memory loss, stiffness, and difficulty walking.\n",
      "\n",
      "4. **Normal Pressure Hydrocephalus (NPH)**: This is a condition where there is an excess of cerebrospinal fluid (CSF) in the brain. It can cause memory loss, difficulty walking, and other symptoms.\n",
      "\n",
      "5. **Brain Tumor**: While less common, a brain tumor can cause similar symptoms.\n",
      "\n",
      "Given the severity and nature of your symptoms, it's crucial to consult with a healthcare professional for a thorough evaluation. They can perform tests and examinations to determine the cause of your symptoms and recommend appropriate treatment.\n",
      "==========\n",
      "Prompt: 29 tokens, 73.883 tokens-per-sec\n",
      "Generation: 255 tokens, 29.614 tokens-per-sec\n",
      "Peak memory: 4.633 GB\n"
     ]
    }
   ],
   "source": [
    "!python -m mlx_lm.generate \\\n",
    "    --model mlx-community/Ministral-8B-Instruct-2410-4bit \\\n",
    "    --max-tokens 500 \\\n",
    "    --prompt \"Symptoms: I have been experiencing memory loss, stiffness and difficulty walking. Question: What could be the diagnosis I have?\""
   ]
  },
  {
   "cell_type": "code",
   "execution_count": 19,
   "metadata": {},
   "outputs": [
    {
     "name": "stdout",
     "output_type": "stream",
     "text": [
      "<frozen runpy>:128: RuntimeWarning: 'mlx_lm.generate' found in sys.modules after import of package 'mlx_lm', but prior to execution of 'mlx_lm.generate'; this may result in unpredictable behaviour\n",
      "Calling `python -m mlx_lm.generate...` directly is deprecated. Use `mlx_lm.generate...` or `python -m mlx_lm generate ...` instead.\n",
      "Fetching 7 files: 100%|███████████████████████| 7/7 [00:00<00:00, 132252.83it/s]\n",
      "==========\n",
      "[TOOL_CALLS]: Question: What is the diagnosis I have? Answer: You may be diagnosed with Arthritis.\n",
      "==========\n",
      "Prompt: 29 tokens, 121.115 tokens-per-sec\n",
      "Generation: 22 tokens, 30.599 tokens-per-sec\n",
      "Peak memory: 4.656 GB\n"
     ]
    }
   ],
   "source": [
    "!python -m mlx_lm.generate \\\n",
    "    --model mlx-community/Ministral-8B-Instruct-2410-4bit \\\n",
    "    --max-tokens 500 \\\n",
    "    --adapter-path adapters \\\n",
    "    --prompt \"Symptoms: I have been experiencing memory loss, stiffness and difficulty walking. Question: What could be the diagnosis I have?\""
   ]
  }
 ],
 "metadata": {
  "kernelspec": {
   "display_name": "env",
   "language": "python",
   "name": "python3"
  },
  "language_info": {
   "codemirror_mode": {
    "name": "ipython",
    "version": 3
   },
   "file_extension": ".py",
   "mimetype": "text/x-python",
   "name": "python",
   "nbconvert_exporter": "python",
   "pygments_lexer": "ipython3",
   "version": "3.12.5"
  }
 },
 "nbformat": 4,
 "nbformat_minor": 2
}
